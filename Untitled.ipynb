{
 "cells": [
  {
   "cell_type": "code",
   "execution_count": 47,
   "metadata": {},
   "outputs": [],
   "source": [
    "import matplotlib.pyplot as plt\n",
    "import numpy as np\n",
    "from sklearn.neighbors import KernelDensity\n",
    "from sklearn.model_selection import GridSearchCV\n",
    "\n",
    "\n",
    "def mykde(X, *, grid_size: int = 120, bw: float = 4, bw_select: bool = False, plotnow: bool = False, train_percentage: float = 0.1):\n",
    "\n",
    "    if bw_select:\n",
    "        # Selecting the bandwidth via cross-validation\n",
    "        bandwidths = 10 ** np.linspace(-1, 1, 100)\n",
    "        grid = GridSearchCV(KernelDensity(kernel='gaussian'), {'bandwidth': bandwidths}, cv=len(X[:int(len(X)*train_percentage), :]))\n",
    "        grid.fit(X[:int(len(X)*train_percentage), :])\n",
    "        bw = grid.best_params_['bandwidth']\n",
    "\n",
    "    # Kernel Density Estimation\n",
    "    kde = KernelDensity(bandwidth=bw).fit(X)\n",
    "\n",
    "    # Grid creation\n",
    "    xx_d = np.linspace(0, grid_size, grid_size)\n",
    "    yy_d = np.linspace(0, grid_size, grid_size)\n",
    "    xx_dv, yy_dv = np.meshgrid(xx_d, yy_d)\n",
    "    coor = np.array([xx_dv.flatten(), yy_dv.flatten()]).swapaxes(0, 1)\n",
    "\n",
    "    # Evaluation of grid\n",
    "    logprob = kde.score_samples(coor)      # Array of log(density) evaluations. Normalized to be probability densities.\n",
    "    probdens = np.exp(logprob)\n",
    "#     plt.imshow(logprob.reshape(grid_size, grid_size))\n",
    "#     plt.colorbar()\n",
    "#     plt.scatter(X[:, 0], X[:, 1], c='red')\n",
    "#     plt.title('logprob')\n",
    "#     plt.show()\n",
    "#     plt.imshow(adrian_score.reshape(grid_size, grid_size))\n",
    "#     plt.colorbar()\n",
    "#     plt.scatter(X[:, 0], X[:, 1], c='red')\n",
    "#     plt.title('logprob, baseline removed and normalized')    \n",
    "#     plt.show()\n",
    "#     invlogprob = (1/logprob)/np.sum(1/logprob)\n",
    "#     plt.imshow(invlogprob.reshape(grid_size, grid_size))\n",
    "#     plt.colorbar()\n",
    "#     plt.scatter(X[:, 0], X[:, 1], c='red')\n",
    "#     plt.title('1/logprob')\n",
    "#     plt.show()\n",
    "    \n",
    "    # Plot\n",
    "    if plotnow:\n",
    "        im = probdens.reshape((int(probdens.shape[0]/grid_size), grid_size))\n",
    "        plt.imshow(im)\n",
    "        # plt.contourf(xx_dv, yy_dv, probdens.reshape((xx_d.shape[0], xx_d.shape[0])))\n",
    "        plt.scatter(X[:, 0], X[:, 1], c='red')\n",
    "        plt.show()\n",
    "\n",
    "    return probdens"
   ]
  },
  {
   "cell_type": "code",
   "execution_count": 54,
   "metadata": {},
   "outputs": [
    {
     "name": "stdout",
     "output_type": "stream",
     "text": [
      "0\n",
      "1\n",
      "2\n",
      "3\n",
      "4\n",
      "5\n",
      "6\n",
      "7\n",
      "8\n",
      "9\n",
      "10\n",
      "11\n"
     ]
    },
    {
     "data": {
      "image/png": "[encoded data removed]",
      "text/plain": [
       "<Figure size 432x288 with 1 Axes>"
      ]
     },
     "metadata": {
      "needs_background": "light"
     },
     "output_type": "display_data"
    }
   ],
   "source": [
    "import deepdish as dd\n",
    "import numpy as np\n",
    "import h5py\n",
    "import matplotlib.pyplot as plt\n",
    "\n",
    "dataPath = '/#Common/chainingmic/dat.processed'\n",
    "resPath = '/#Common/chainingmic/res'\n",
    "labelsPath = '/#Common/adrian/Adrian/big_dataset_17102018_train.labels.mat'\n",
    "newlabelPath = '/#Common/adrian/Workspace/temp/training/labeled_training_set.h5'\n",
    "\n",
    "# Load labels\n",
    "f = h5py.File(labelsPath, 'r')\n",
    "# f contains:\n",
    "# boxPath, config, createdOn, history, initialization, lastModified, positions, savePath, session, skeleton, skeletonPath\n",
    "initialization = f['initialization']\n",
    "positions = f['positions']\n",
    "\n",
    "# Find boxes that are labeled\n",
    "status = np.all(~np.isnan(positions), (1, 2))  # True if box has been fully labeled\n",
    "\n",
    "# Select labeled positions\n",
    "labeled_positions = positions[status, ...]  # positions that have been fully labeled\n",
    "\n",
    "# Calculate density\n",
    "bp = 0\n",
    "frame_size = 120\n",
    "priors = np.zeros((frame_size, frame_size, 12))\n",
    "# priors[:, :, bp] = mykde(labeled_positions[:, :, bp], bw=4).reshape((frame_size, frame_size))\n",
    "for bp in range(12):\n",
    "    print(bp)\n",
    "    priors[:, :, bp] = mykde(labeled_positions[:, :, bp], bw=4).reshape((frame_size, frame_size))\n",
    "    plt.subplot(1, 12, bp+1)\n",
    "    plt.imshow(priors[:, :, bp])\n",
    "    plt.title(str(bp))\n",
    "\n",
    "plt.show()"
   ]
  },
  {
   "cell_type": "code",
   "execution_count": 51,
   "metadata": {},
   "outputs": [
    {
     "data": {
      "text/plain": [
       "<matplotlib.image.AxesImage at 0x1d173c41d30>"
      ]
     },
     "execution_count": 51,
     "metadata": {},
     "output_type": "execute_result"
    },
    {
     "data": {
      "image/png": "[encoded data removed]",
      "text/plain": [
       "<Figure size 432x288 with 1 Axes>"
      ]
     },
     "metadata": {
      "needs_background": "light"
     },
     "output_type": "display_data"
    }
   ],
   "source": []
  },
  {
   "cell_type": "code",
   "execution_count": 50,
   "metadata": {},
   "outputs": [
    {
     "name": "stdout",
     "output_type": "stream",
     "text": [
      "min: 6.443971635423694e-77 and max: 0.006020441614435135\n"
     ]
    }
   ],
   "source": []
  },
  {
   "cell_type": "code",
   "execution_count": null,
   "metadata": {},
   "outputs": [],
   "source": []
  }
 ],
 "metadata": {
  "kernelspec": {
   "display_name": "Environment (conda_leap)",
   "language": "python",
   "name": "conda_leap"
  },
  "language_info": {
   "codemirror_mode": {
    "name": "ipython",
    "version": 3
   },
   "file_extension": ".py",
   "mimetype": "text/x-python",
   "name": "python",
   "nbconvert_exporter": "python",
   "pygments_lexer": "ipython3",
   "version": "3.6.6"
  }
 },
 "nbformat": 4,
 "nbformat_minor": 2
}
